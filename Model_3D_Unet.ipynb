{
 "cells": [
  {
   "cell_type": "markdown",
   "id": "04370ca6",
   "metadata": {},
   "source": [
    "<h1>Creating a 3D Unet model for training the data"
   ]
  },
  {
   "cell_type": "code",
   "execution_count": 1,
   "id": "bc41a172",
   "metadata": {},
   "outputs": [],
   "source": [
    "from keras.models import Model\n",
    "from keras.layers import Input, Conv3D, MaxPooling3D, concatenate, Conv3DTranspose, BatchNormalization, Dropout, Lambda\n",
    "from keras.optimizers import Adam\n",
    "from keras.metrics import MeanIoU"
   ]
  },
  {
   "cell_type": "code",
   "execution_count": 2,
   "id": "4d86c314",
   "metadata": {},
   "outputs": [],
   "source": [
    "kernel_initializer = 'he_uniform'#We are using he_uniform because it works best with Relu activation"
   ]
  },
  {
   "cell_type": "code",
   "execution_count": 10,
   "id": "33f9cd62",
   "metadata": {},
   "outputs": [],
   "source": [
    "def simple_unet_model(img_height, img_width, img_depth, img_channels, num_classes):\n",
    "    inputs = Input((img_height, img_width, img_depth, img_channels))\n",
    "    s = inputs\n",
    "    \n",
    "    #Contraction Path or Downsample Path\n",
    "    \n",
    "    c1 = Conv3D(16, (3, 3, 3), activation='relu', kernel_initializer=kernel_initializer, padding='same')(s)\n",
    "    c1 = Dropout(0.1)(c1)\n",
    "    c1 = Conv3D(16, (3, 3, 3), activation='relu', kernel_initializer=kernel_initializer, padding='same')(c1)\n",
    "    p1 = MaxPooling3D((2, 2, 2))(c1)\n",
    "    \n",
    "    c2 = Conv3D(32, (3, 3, 3), activation='relu', kernel_initializer=kernel_initializer, padding='same')(p1)\n",
    "    c2 = Dropout(0.1)(c2)\n",
    "    c2 = Conv3D(32, (3, 3, 3), activation='relu', kernel_initializer=kernel_initializer, padding='same')(c2)\n",
    "    p2 = MaxPooling3D((2, 2, 2))(c2)\n",
    "     \n",
    "    c3 = Conv3D(64, (3, 3, 3), activation='relu', kernel_initializer=kernel_initializer, padding='same')(p2)\n",
    "    c3 = Dropout(0.2)(c3)\n",
    "    c3 = Conv3D(64, (3, 3, 3), activation='relu', kernel_initializer=kernel_initializer, padding='same')(c3)\n",
    "    p3 = MaxPooling3D((2, 2, 2))(c3)\n",
    "     \n",
    "    c4 = Conv3D(128, (3, 3, 3), activation='relu', kernel_initializer=kernel_initializer, padding='same')(p3)\n",
    "    c4 = Dropout(0.2)(c4)\n",
    "    c4 = Conv3D(128, (3, 3, 3), activation='relu', kernel_initializer=kernel_initializer, padding='same')(c4)\n",
    "    p4 = MaxPooling3D(pool_size=(2, 2, 2))(c4)\n",
    "     \n",
    "    c5 = Conv3D(256, (3, 3, 3), activation='relu', kernel_initializer=kernel_initializer, padding='same')(p4)\n",
    "    c5 = Dropout(0.3)(c5)\n",
    "    c5 = Conv3D(256, (3, 3, 3), activation='relu', kernel_initializer=kernel_initializer, padding='same')(c5)\n",
    "    \n",
    "    #Expansive path or Upsample Path\n",
    "    u6 = Conv3DTranspose(128, (2, 2, 2), strides=(2, 2, 2), padding='same')(c5)\n",
    "    u6 = concatenate([u6, c4])\n",
    "    c6 = Conv3D(128, (3, 3, 3), activation='relu', kernel_initializer=kernel_initializer, padding='same')(u6)\n",
    "    c6 = Dropout(0.2)(c6)\n",
    "    c6 = Conv3D(128, (3, 3, 3), activation='relu', kernel_initializer=kernel_initializer, padding='same')(c6)\n",
    "     \n",
    "    u7 = Conv3DTranspose(64, (2, 2, 2), strides=(2, 2, 2), padding='same')(c6)\n",
    "    u7 = concatenate([u7, c3])\n",
    "    c7 = Conv3D(64, (3, 3, 3), activation='relu', kernel_initializer=kernel_initializer, padding='same')(u7)\n",
    "    c7 = Dropout(0.2)(c7)\n",
    "    c7 = Conv3D(64, (3, 3, 3), activation='relu', kernel_initializer=kernel_initializer, padding='same')(c7)\n",
    "     \n",
    "    u8 = Conv3DTranspose(32, (2, 2, 2), strides=(2, 2, 2), padding='same')(c7)\n",
    "    u8 = concatenate([u8, c2])\n",
    "    c8 = Conv3D(32, (3, 3, 3), activation='relu', kernel_initializer=kernel_initializer, padding='same')(u8)\n",
    "    c8 = Dropout(0.1)(c8)\n",
    "    c8 = Conv3D(32, (3, 3, 3), activation='relu', kernel_initializer=kernel_initializer, padding='same')(c8)\n",
    "     \n",
    "    u9 = Conv3DTranspose(16, (2, 2, 2), strides=(2, 2, 2), padding='same')(c8)\n",
    "    u9 = concatenate([u9, c1])\n",
    "    c9 = Conv3D(16, (3, 3, 3), activation='relu', kernel_initializer=kernel_initializer, padding='same')(u9)\n",
    "    c9 = Dropout(0.1)(c9)\n",
    "    c9 = Conv3D(16, (3, 3, 3), activation='relu', kernel_initializer=kernel_initializer, padding='same')(c9)\n",
    "     \n",
    "    outputs = Conv3D(num_classes, (1, 1, 1), activation='softmax')(c9)\n",
    "    #We use softmax activation because of multichannel prediction if it was binary should have used sigmoid\n",
    "    model = Model(inputs = [inputs], outputs = [outputs])\n",
    "    model.summary()\n",
    "    \n",
    "    return model\n"
   ]
  },
  {
   "cell_type": "markdown",
   "id": "a0c06dbd",
   "metadata": {},
   "source": [
    "Testing the Model"
   ]
  },
  {
   "cell_type": "code",
   "execution_count": 8,
   "id": "942e854a",
   "metadata": {
    "scrolled": true
   },
   "outputs": [
    {
     "name": "stdout",
     "output_type": "stream",
     "text": [
      "Model: \"model\"\n",
      "__________________________________________________________________________________________________\n",
      " Layer (type)                   Output Shape         Param #     Connected to                     \n",
      "==================================================================================================\n",
      " input_3 (InputLayer)           [(None, 128, 128, 1  0           []                               \n",
      "                                28, 3)]                                                           \n",
      "                                                                                                  \n",
      " conv3d_38 (Conv3D)             (None, 128, 128, 12  1312        ['input_3[0][0]']                \n",
      "                                8, 16)                                                            \n",
      "                                                                                                  \n",
      " dropout_18 (Dropout)           (None, 128, 128, 12  0           ['conv3d_38[0][0]']              \n",
      "                                8, 16)                                                            \n",
      "                                                                                                  \n",
      " conv3d_39 (Conv3D)             (None, 128, 128, 12  6928        ['dropout_18[0][0]']             \n",
      "                                8, 16)                                                            \n",
      "                                                                                                  \n",
      " max_pooling3d_8 (MaxPooling3D)  (None, 64, 64, 64,   0          ['conv3d_39[0][0]']              \n",
      "                                16)                                                               \n",
      "                                                                                                  \n",
      " conv3d_40 (Conv3D)             (None, 64, 64, 64,   13856       ['max_pooling3d_8[0][0]']        \n",
      "                                32)                                                               \n",
      "                                                                                                  \n",
      " dropout_19 (Dropout)           (None, 64, 64, 64,   0           ['conv3d_40[0][0]']              \n",
      "                                32)                                                               \n",
      "                                                                                                  \n",
      " conv3d_41 (Conv3D)             (None, 64, 64, 64,   27680       ['dropout_19[0][0]']             \n",
      "                                32)                                                               \n",
      "                                                                                                  \n",
      " max_pooling3d_9 (MaxPooling3D)  (None, 32, 32, 32,   0          ['conv3d_41[0][0]']              \n",
      "                                32)                                                               \n",
      "                                                                                                  \n",
      " conv3d_42 (Conv3D)             (None, 32, 32, 32,   55360       ['max_pooling3d_9[0][0]']        \n",
      "                                64)                                                               \n",
      "                                                                                                  \n",
      " dropout_20 (Dropout)           (None, 32, 32, 32,   0           ['conv3d_42[0][0]']              \n",
      "                                64)                                                               \n",
      "                                                                                                  \n",
      " conv3d_43 (Conv3D)             (None, 32, 32, 32,   110656      ['dropout_20[0][0]']             \n",
      "                                64)                                                               \n",
      "                                                                                                  \n",
      " max_pooling3d_10 (MaxPooling3D  (None, 16, 16, 16,   0          ['conv3d_43[0][0]']              \n",
      " )                              64)                                                               \n",
      "                                                                                                  \n",
      " conv3d_44 (Conv3D)             (None, 16, 16, 16,   221312      ['max_pooling3d_10[0][0]']       \n",
      "                                128)                                                              \n",
      "                                                                                                  \n",
      " dropout_21 (Dropout)           (None, 16, 16, 16,   0           ['conv3d_44[0][0]']              \n",
      "                                128)                                                              \n",
      "                                                                                                  \n",
      " conv3d_45 (Conv3D)             (None, 16, 16, 16,   442496      ['dropout_21[0][0]']             \n",
      "                                128)                                                              \n",
      "                                                                                                  \n",
      " max_pooling3d_11 (MaxPooling3D  (None, 8, 8, 8, 128  0          ['conv3d_45[0][0]']              \n",
      " )                              )                                                                 \n",
      "                                                                                                  \n",
      " conv3d_46 (Conv3D)             (None, 8, 8, 8, 256  884992      ['max_pooling3d_11[0][0]']       \n",
      "                                )                                                                 \n",
      "                                                                                                  \n",
      " dropout_22 (Dropout)           (None, 8, 8, 8, 256  0           ['conv3d_46[0][0]']              \n",
      "                                )                                                                 \n",
      "                                                                                                  \n",
      " conv3d_47 (Conv3D)             (None, 8, 8, 8, 256  1769728     ['dropout_22[0][0]']             \n",
      "                                )                                                                 \n",
      "                                                                                                  \n",
      " conv3d_transpose_8 (Conv3DTran  (None, 16, 16, 16,   262272     ['conv3d_47[0][0]']              \n",
      " spose)                         128)                                                              \n",
      "                                                                                                  \n",
      " concatenate_8 (Concatenate)    (None, 16, 16, 16,   0           ['conv3d_transpose_8[0][0]',     \n",
      "                                256)                              'conv3d_45[0][0]']              \n",
      "                                                                                                  \n",
      " conv3d_48 (Conv3D)             (None, 16, 16, 16,   884864      ['concatenate_8[0][0]']          \n",
      "                                128)                                                              \n",
      "                                                                                                  \n",
      " dropout_23 (Dropout)           (None, 16, 16, 16,   0           ['conv3d_48[0][0]']              \n",
      "                                128)                                                              \n",
      "                                                                                                  \n",
      " conv3d_49 (Conv3D)             (None, 16, 16, 16,   442496      ['dropout_23[0][0]']             \n",
      "                                128)                                                              \n",
      "                                                                                                  \n",
      " conv3d_transpose_9 (Conv3DTran  (None, 32, 32, 32,   65600      ['conv3d_49[0][0]']              \n",
      " spose)                         64)                                                               \n",
      "                                                                                                  \n",
      " concatenate_9 (Concatenate)    (None, 32, 32, 32,   0           ['conv3d_transpose_9[0][0]',     \n",
      "                                128)                              'conv3d_43[0][0]']              \n"
     ]
    },
    {
     "name": "stdout",
     "output_type": "stream",
     "text": [
      "                                                                                                  \n",
      " conv3d_50 (Conv3D)             (None, 32, 32, 32,   221248      ['concatenate_9[0][0]']          \n",
      "                                64)                                                               \n",
      "                                                                                                  \n",
      " dropout_24 (Dropout)           (None, 32, 32, 32,   0           ['conv3d_50[0][0]']              \n",
      "                                64)                                                               \n",
      "                                                                                                  \n",
      " conv3d_51 (Conv3D)             (None, 32, 32, 32,   110656      ['dropout_24[0][0]']             \n",
      "                                64)                                                               \n",
      "                                                                                                  \n",
      " conv3d_transpose_10 (Conv3DTra  (None, 64, 64, 64,   16416      ['conv3d_51[0][0]']              \n",
      " nspose)                        32)                                                               \n",
      "                                                                                                  \n",
      " concatenate_10 (Concatenate)   (None, 64, 64, 64,   0           ['conv3d_transpose_10[0][0]',    \n",
      "                                64)                               'conv3d_41[0][0]']              \n",
      "                                                                                                  \n",
      " conv3d_52 (Conv3D)             (None, 64, 64, 64,   55328       ['concatenate_10[0][0]']         \n",
      "                                32)                                                               \n",
      "                                                                                                  \n",
      " dropout_25 (Dropout)           (None, 64, 64, 64,   0           ['conv3d_52[0][0]']              \n",
      "                                32)                                                               \n",
      "                                                                                                  \n",
      " conv3d_53 (Conv3D)             (None, 64, 64, 64,   27680       ['dropout_25[0][0]']             \n",
      "                                32)                                                               \n",
      "                                                                                                  \n",
      " conv3d_transpose_11 (Conv3DTra  (None, 128, 128, 12  4112       ['conv3d_53[0][0]']              \n",
      " nspose)                        8, 16)                                                            \n",
      "                                                                                                  \n",
      " concatenate_11 (Concatenate)   (None, 128, 128, 12  0           ['conv3d_transpose_11[0][0]',    \n",
      "                                8, 32)                            'conv3d_39[0][0]']              \n",
      "                                                                                                  \n",
      " conv3d_54 (Conv3D)             (None, 128, 128, 12  13840       ['concatenate_11[0][0]']         \n",
      "                                8, 16)                                                            \n",
      "                                                                                                  \n",
      " dropout_26 (Dropout)           (None, 128, 128, 12  0           ['conv3d_54[0][0]']              \n",
      "                                8, 16)                                                            \n",
      "                                                                                                  \n",
      " conv3d_55 (Conv3D)             (None, 128, 128, 12  6928        ['dropout_26[0][0]']             \n",
      "                                8, 16)                                                            \n",
      "                                                                                                  \n",
      " conv3d_56 (Conv3D)             (None, 128, 128, 12  68          ['conv3d_55[0][0]']              \n",
      "                                8, 4)                                                             \n",
      "                                                                                                  \n",
      "==================================================================================================\n",
      "Total params: 5,645,828\n",
      "Trainable params: 5,645,828\n",
      "Non-trainable params: 0\n",
      "__________________________________________________________________________________________________\n",
      "None\n"
     ]
    },
    {
     "data": {
      "text/plain": [
       "<keras.engine.functional.Functional at 0x23ca2e82ca0>"
      ]
     },
     "execution_count": 8,
     "metadata": {},
     "output_type": "execute_result"
    }
   ],
   "source": [
    "model = simple_unet_model(128,128,128,3,4)\n",
    "model"
   ]
  },
  {
   "cell_type": "code",
   "execution_count": 9,
   "id": "85bb2851",
   "metadata": {},
   "outputs": [
    {
     "name": "stdout",
     "output_type": "stream",
     "text": [
      "(None, 128, 128, 128, 3)\n",
      "(None, 128, 128, 128, 4)\n"
     ]
    }
   ],
   "source": [
    "print(model.input_shape) \n",
    "print(model.output_shape)"
   ]
  },
  {
   "cell_type": "code",
   "execution_count": null,
   "id": "1425a95e",
   "metadata": {},
   "outputs": [],
   "source": []
  }
 ],
 "metadata": {
  "kernelspec": {
   "display_name": "Python 3 (ipykernel)",
   "language": "python",
   "name": "python3"
  },
  "language_info": {
   "codemirror_mode": {
    "name": "ipython",
    "version": 3
   },
   "file_extension": ".py",
   "mimetype": "text/x-python",
   "name": "python",
   "nbconvert_exporter": "python",
   "pygments_lexer": "ipython3",
   "version": "3.9.13"
  }
 },
 "nbformat": 4,
 "nbformat_minor": 5
}
